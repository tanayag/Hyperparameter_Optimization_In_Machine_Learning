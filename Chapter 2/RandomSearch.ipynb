{
 "cells": [
  {
   "cell_type": "markdown",
   "metadata": {},
   "source": [
    "## Section 2.2"
   ]
  },
  {
   "cell_type": "markdown",
   "metadata": {},
   "source": [
    "### Again using Iris Dataset"
   ]
  },
  {
   "cell_type": "code",
   "execution_count": 1,
   "metadata": {},
   "outputs": [],
   "source": [
    "from sklearn.datasets import load_iris\n",
    "from sklearn.model_selection import train_test_split"
   ]
  },
  {
   "cell_type": "code",
   "execution_count": 2,
   "metadata": {},
   "outputs": [],
   "source": [
    "iris = load_iris()\n",
    "X, y = iris.data, iris.target"
   ]
  },
  {
   "cell_type": "code",
   "execution_count": 3,
   "metadata": {},
   "outputs": [],
   "source": [
    "X_train, X_test, y_train, y_test = train_test_split(X, y, test_size=0.2, shuffle=True)"
   ]
  },
  {
   "cell_type": "markdown",
   "metadata": {},
   "source": [
    "#### 1. Scratch Implementation"
   ]
  },
  {
   "cell_type": "code",
   "execution_count": 4,
   "metadata": {},
   "outputs": [],
   "source": [
    "import random\n",
    "import numpy as np\n",
    "\n",
    "def loguniform(low=0, high=1, size=100, base=10):\n",
    "    \"\"\"function creates a log uniform distribution with \n",
    "    random values.\"\"\"\n",
    "    return np.power(base, np.random.uniform(low, high, size))\n",
    "\n",
    "param_grid = {\n",
    "              \"gamma\": loguniform(low=-10, high=4, base=10),\n",
    "              \"C\": loguniform(low=-3, high=11, base=10)\n",
    "             }"
   ]
  },
  {
   "cell_type": "code",
   "execution_count": 5,
   "metadata": {},
   "outputs": [],
   "source": [
    "def get_random_hp_set(grid):\n",
    "      # function chooses a random value for each from grid\n",
    "    hp_set = dict()\n",
    "    for key, param in grid.items():\n",
    "             hp_set[key] = np.random.choice(param) \n",
    "    return hp_set"
   ]
  },
  {
   "cell_type": "code",
   "execution_count": 6,
   "metadata": {},
   "outputs": [],
   "source": [
    "def random_search(clf, grid, n_iterations, X_train, y_train, X_test, y_test):\n",
    "# defining function for random search    \n",
    "    logs = list()\n",
    "    best_hp_set = {\n",
    "    \"best_test_score\": 0.0\n",
    "    }\n",
    "\n",
    "    for iteration in range(n_iterations):\n",
    "        log = dict()\n",
    "\n",
    "        # selecting the set of hyperparameters from function defined\n",
    "        # for random search.\n",
    "        hp_set = get_random_hp_set(grid)\n",
    "        # print(hp_set)\n",
    "        model = clf(**hp_set)\n",
    "        model.fit(X_train, y_train)\n",
    "        train_score = model.score(X_train, y_train)\n",
    "        test_score = model.score(X_test, y_test)\n",
    "\n",
    "        log[\"hp\"] = hp_set\n",
    "        log[\"train_score\"] = train_score\n",
    "        log[\"test_score\"] = test_score\n",
    "\n",
    "        if best_hp_set[\"best_test_score\"]<test_score:\n",
    "            best_hp_set[\"best_test_score\"] = test_score\n",
    "            best_hp_set[\"hp_set\"] = hp_set\n",
    "\n",
    "        logs.append(log)\n",
    "\n",
    "    return logs, best_hp_set"
   ]
  },
  {
   "cell_type": "code",
   "execution_count": 7,
   "metadata": {},
   "outputs": [],
   "source": [
    "from sklearn.svm import SVC\n",
    "\n",
    "logs, best = random_search(SVC, param_grid, 20, X_train, y_train, X_test, y_test)"
   ]
  },
  {
   "cell_type": "code",
   "execution_count": 8,
   "metadata": {},
   "outputs": [
    {
     "data": {
      "text/plain": [
       "{'best_test_score': 1.0,\n",
       " 'hp_set': {'gamma': 0.00797171003068375, 'C': 7.540309393263641}}"
      ]
     },
     "execution_count": 8,
     "metadata": {},
     "output_type": "execute_result"
    }
   ],
   "source": [
    "best"
   ]
  },
  {
   "cell_type": "markdown",
   "metadata": {},
   "source": [
    "#### Using RandomSearchCV from Scikit-Learn"
   ]
  },
  {
   "cell_type": "code",
   "execution_count": 9,
   "metadata": {},
   "outputs": [],
   "source": [
    "from sklearn.model_selection import RandomizedSearchCV"
   ]
  },
  {
   "cell_type": "code",
   "execution_count": 10,
   "metadata": {},
   "outputs": [
    {
     "data": {
      "text/plain": [
       "RandomizedSearchCV(cv=3, estimator=SVC(), n_iter=20,\n",
       "                   param_distributions={'C': array([1.75434095e+02, 8.42174049e+00, 8.73379196e+04, 4.71531577e-02,\n",
       "       5.80297770e-01, 2.26900446e-01, 1.40126999e-03, 7.16724080e+04,\n",
       "       7.36827187e+03, 8.17567567e+09, 2.27758251e+09, 6.96439337e+03,\n",
       "       3.83990168e+01, 1.69372702e-02, 2.18588215e+06, 3.22067266e+10,\n",
       "       3.27397167e-03, 8.53399071e+0...\n",
       "       2.04313456e+03, 1.89691854e+01, 1.28770150e-03, 1.47144366e-07,\n",
       "       8.12001785e-08, 1.20600739e-02, 1.39540862e-05, 9.01774886e-04,\n",
       "       2.83940416e+02, 1.54729492e-07, 7.22696175e+03, 5.87213192e-08,\n",
       "       6.78005902e-09, 4.52941091e+00, 1.18327933e-03, 6.80673036e+01,\n",
       "       4.63163521e+01, 8.78363147e-02, 7.22486627e-09, 9.55041001e-09,\n",
       "       4.95616407e-07, 6.33498536e-08, 1.90574768e+02, 2.09632354e-05])})"
      ]
     },
     "execution_count": 10,
     "metadata": {},
     "output_type": "execute_result"
    }
   ],
   "source": [
    "clf = RandomizedSearchCV(SVC(), param_grid, n_iter=20, cv=3)\n",
    "clf.fit(X_train, y_train)"
   ]
  },
  {
   "cell_type": "code",
   "execution_count": 11,
   "metadata": {},
   "outputs": [
    {
     "data": {
      "text/plain": [
       "SVC(C=1418247.5308956155, gamma=9.855717172593676e-07)"
      ]
     },
     "execution_count": 11,
     "metadata": {},
     "output_type": "execute_result"
    }
   ],
   "source": [
    "clf.best_estimator_"
   ]
  },
  {
   "cell_type": "code",
   "execution_count": 12,
   "metadata": {},
   "outputs": [],
   "source": [
    "# print(f'Test Score: {clf.score(X_test, y_test)}')\n",
    "# print(f'Train Score: {clf.score(X_train, y_train)}')"
   ]
  }
 ],
 "metadata": {
  "kernelspec": {
   "display_name": "Python 3",
   "language": "python",
   "name": "python3"
  },
  "language_info": {
   "codemirror_mode": {
    "name": "ipython",
    "version": 3
   },
   "file_extension": ".py",
   "mimetype": "text/x-python",
   "name": "python",
   "nbconvert_exporter": "python",
   "pygments_lexer": "ipython3",
   "version": "3.7.6"
  }
 },
 "nbformat": 4,
 "nbformat_minor": 4
}

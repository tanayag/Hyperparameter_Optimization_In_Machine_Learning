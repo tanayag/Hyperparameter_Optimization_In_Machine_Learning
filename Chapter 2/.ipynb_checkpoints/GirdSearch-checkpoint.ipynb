{
 "cells": [
  {
   "cell_type": "markdown",
   "metadata": {},
   "source": [
    "## Section 2.1"
   ]
  },
  {
   "cell_type": "markdown",
   "metadata": {},
   "source": [
    "### In the book I have discussed results with Titanic Dataset, here for the simplicity I am using Iris Dataset"
   ]
  },
  {
   "cell_type": "code",
   "execution_count": 1,
   "metadata": {},
   "outputs": [],
   "source": [
    "from sklearn.datasets import load_iris\n",
    "from sklearn.model_selection import train_test_split"
   ]
  },
  {
   "cell_type": "code",
   "execution_count": 2,
   "metadata": {},
   "outputs": [],
   "source": [
    "iris = load_iris()\n",
    "X, y = iris.data, iris.target"
   ]
  },
  {
   "cell_type": "code",
   "execution_count": 3,
   "metadata": {},
   "outputs": [],
   "source": [
    "X_train, X_test, y_train, y_test = train_test_split(X, y, test_size=0.2, shuffle=True)"
   ]
  },
  {
   "cell_type": "markdown",
   "metadata": {},
   "source": [
    "#### 1. Scratch Implementation"
   ]
  },
  {
   "cell_type": "code",
   "execution_count": 4,
   "metadata": {},
   "outputs": [],
   "source": [
    "# Defining Search Space\n",
    "\n",
    "c = 0.001\n",
    "gamma = 1e-10\n",
    "param_grid = {\n",
    "              \"C\": [c*(10**i) for i in range(1,14)],\n",
    "              \"gamma\": [gamma*(10**i) for i in range(1,14)]\n",
    "             }"
   ]
  },
  {
   "cell_type": "code",
   "execution_count": 5,
   "metadata": {},
   "outputs": [
    {
     "data": {
      "text/plain": [
       "[{'C': 0.01, 'gamma': 1e-09},\n",
       " {'C': 0.01, 'gamma': 1e-08},\n",
       " {'C': 0.01, 'gamma': 1.0000000000000001e-07},\n",
       " {'C': 0.01, 'gamma': 1e-06},\n",
       " {'C': 0.01, 'gamma': 1e-05}]"
      ]
     },
     "execution_count": 5,
     "metadata": {},
     "output_type": "execute_result"
    }
   ],
   "source": [
    "from itertools import product\n",
    "\n",
    "def make_sets(grid):\n",
    "    \"\"\"function makes all possible set from the grid above\"\"\"\n",
    "    sets = list()\n",
    "    all_hps_vals = [lst for lst in param_grid.values()]\n",
    "    hp_keys = [hp for hp in param_grid.keys()]\n",
    "    val_sets = product(*all_hps_vals)\n",
    "    for val in val_sets:\n",
    "        hp_set = dict()\n",
    "        for idx, hp_key in enumerate(hp_keys):\n",
    "            hp_set[hp_key] = val[idx]\n",
    "        sets.append(hp_set)\n",
    "    return sets\n",
    "\n",
    "make_sets(param_grid)[:5]"
   ]
  },
  {
   "cell_type": "code",
   "execution_count": 6,
   "metadata": {},
   "outputs": [],
   "source": [
    "def grid_search(clf, grid, X_train, y_train, X_test, y_test):\n",
    "    # iterates over all the sets\n",
    "    all_sets = make_sets(grid)\n",
    "    logs = list()\n",
    "    best_hp_set = {\n",
    "        \"best_test_score\": 0.0\n",
    "    }\n",
    "    for hp_set in all_sets:\n",
    "        log = dict()\n",
    "        model = clf(**hp_set)\n",
    "        model.fit(X_train, y_train)\n",
    "        train_score = model.score(X_train, y_train)\n",
    "        test_score = model.score(X_test, y_test)\n",
    "        \n",
    "        log[\"hp\"] = hp_set\n",
    "        log[\"train_score\"] = train_score\n",
    "        log[\"test_score\"] = test_score\n",
    "        \n",
    "        if best_hp_set[\"best_test_score\"]<test_score:\n",
    "            best_hp_set[\"best_test_score\"] = test_score\n",
    "            best_hp_set[\"hp_set\"] = hp_set\n",
    "        \n",
    "        logs.append(log)\n",
    "        \n",
    "    return logs, best_hp_set"
   ]
  },
  {
   "cell_type": "code",
   "execution_count": 7,
   "metadata": {},
   "outputs": [],
   "source": [
    "from sklearn.model_selection import train_test_split\n",
    "from sklearn.svm import SVC"
   ]
  },
  {
   "cell_type": "code",
   "execution_count": 8,
   "metadata": {},
   "outputs": [],
   "source": [
    "logs, best = grid_search(SVC, param_grid, X_train, y_train, X_test, y_test)"
   ]
  },
  {
   "cell_type": "code",
   "execution_count": 9,
   "metadata": {},
   "outputs": [
    {
     "name": "stdout",
     "output_type": "stream",
     "text": [
      "{'best_test_score': 0.9666666666666667, 'hp_set': {'C': 0.1, 'gamma': 0.1}}\n"
     ]
    }
   ],
   "source": [
    "print(best)"
   ]
  },
  {
   "cell_type": "markdown",
   "metadata": {},
   "source": [
    "#### 2. Using GridSearchCV from Scikit-Learn"
   ]
  },
  {
   "cell_type": "code",
   "execution_count": 10,
   "metadata": {},
   "outputs": [],
   "source": [
    "from sklearn.model_selection import GridSearchCV"
   ]
  },
  {
   "cell_type": "code",
   "execution_count": 11,
   "metadata": {},
   "outputs": [
    {
     "data": {
      "text/plain": [
       "GridSearchCV(cv=3, estimator=SVC(),\n",
       "             param_grid={'C': [0.01, 0.1, 1.0, 10.0, 100.0, 1000.0, 10000.0,\n",
       "                               100000.0, 1000000.0, 10000000.0, 100000000.0,\n",
       "                               1000000000.0, 10000000000.0],\n",
       "                         'gamma': [1e-09, 1e-08, 1.0000000000000001e-07, 1e-06,\n",
       "                                   1e-05, 0.0001, 0.001, 0.01, 0.1, 1.0, 10.0,\n",
       "                                   100.0, 1000.0]})"
      ]
     },
     "execution_count": 11,
     "metadata": {},
     "output_type": "execute_result"
    }
   ],
   "source": [
    "# using k fold cross validation, here k=3\n",
    "\n",
    "clf = GridSearchCV(SVC(), param_grid, cv=3)\n",
    "clf.fit(X_train, y_train)"
   ]
  },
  {
   "cell_type": "code",
   "execution_count": 12,
   "metadata": {},
   "outputs": [
    {
     "data": {
      "text/plain": [
       "SVC(gamma=1.0)"
      ]
     },
     "execution_count": 12,
     "metadata": {},
     "output_type": "execute_result"
    }
   ],
   "source": [
    "clf.best_estimator_"
   ]
  },
  {
   "cell_type": "code",
   "execution_count": 13,
   "metadata": {},
   "outputs": [],
   "source": [
    "# print(f'Test Score: {clf.score(X_test, y_test)}')\n",
    "# print(f'Train Score: {clf.score(X_train, y_train)}')"
   ]
  }
 ],
 "metadata": {
  "kernelspec": {
   "display_name": "Python 3",
   "language": "python",
   "name": "python3"
  },
  "language_info": {
   "codemirror_mode": {
    "name": "ipython",
    "version": 3
   },
   "file_extension": ".py",
   "mimetype": "text/x-python",
   "name": "python",
   "nbconvert_exporter": "python",
   "pygments_lexer": "ipython3",
   "version": "3.7.6"
  }
 },
 "nbformat": 4,
 "nbformat_minor": 4
}

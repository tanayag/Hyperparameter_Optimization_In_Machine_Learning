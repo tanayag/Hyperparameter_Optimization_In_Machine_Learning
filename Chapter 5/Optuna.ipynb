{
 "cells": [
  {
   "cell_type": "markdown",
   "metadata": {},
   "source": [
    "## Section 5.1"
   ]
  },
  {
   "cell_type": "markdown",
   "metadata": {},
   "source": [
    "#### Hyperparameter Optimization on Scikit-Learn Algorithms"
   ]
  },
  {
   "cell_type": "code",
   "execution_count": 2,
   "metadata": {},
   "outputs": [
    {
     "name": "stderr",
     "output_type": "stream",
     "text": [
      "[I 2020-09-10 02:57:15,805] Trial 0 finished with value: 0.9666666666666667 and parameters: {'classifier': 'SVC', 'svc_c': 1252195959.321192, 'svc_gamma': 7.979672376892811e-09, 'svc_kernel': 'rbf', 'svc_degree': 6}. Best is trial 0 with value: 0.9666666666666667.\n"
     ]
    },
    {
     "name": "stdout",
     "output_type": "stream",
     "text": [
      "Trial No.=0, HP_Set={'classifier': 'SVC', 'svc_c': 1252195959.321192, 'svc_gamma': 7.979672376892811e-09, 'svc_kernel': 'rbf', 'svc_degree': 6}, Score=0.9666666666666667\n",
      "Best Value =0.9666666666666667\n"
     ]
    },
    {
     "name": "stderr",
     "output_type": "stream",
     "text": [
      "[I 2020-09-10 02:57:16,749] Trial 1 finished with value: 0.6111111111111112 and parameters: {'classifier': 'SVC', 'svc_c': 476.57129824526254, 'svc_gamma': 8.796518473446763e-09, 'svc_kernel': 'rbf', 'svc_degree': 6}. Best is trial 0 with value: 0.9666666666666667.\n"
     ]
    },
    {
     "name": "stdout",
     "output_type": "stream",
     "text": [
      "Trial No.=1, HP_Set={'classifier': 'SVC', 'svc_c': 476.57129824526254, 'svc_gamma': 8.796518473446763e-09, 'svc_kernel': 'rbf', 'svc_degree': 6}, Score=0.6111111111111112\n",
      "Best Value =0.9666666666666667\n"
     ]
    },
    {
     "name": "stderr",
     "output_type": "stream",
     "text": [
      "[I 2020-09-10 02:57:17,693] Trial 2 finished with value: 0.08518518518518518 and parameters: {'classifier': 'SVC', 'svc_c': 22.847037995560534, 'svc_gamma': 37.76383003319741, 'svc_kernel': 'rbf', 'svc_degree': 12}. Best is trial 0 with value: 0.9666666666666667.\n"
     ]
    },
    {
     "name": "stdout",
     "output_type": "stream",
     "text": [
      "Trial No.=2, HP_Set={'classifier': 'SVC', 'svc_c': 22.847037995560534, 'svc_gamma': 37.76383003319741, 'svc_kernel': 'rbf', 'svc_degree': 12}, Score=0.08518518518518518\n",
      "Best Value =0.9666666666666667\n",
      "Best trial  accuracy: 0.9666666666666667\n",
      "parameters for best trail are :\n",
      "classifier: SVC\n",
      "svc_c: 1252195959.321192\n",
      "svc_gamma: 7.979672376892811e-09\n",
      "svc_kernel: rbf\n",
      "svc_degree: 6\n"
     ]
    }
   ],
   "source": [
    "from sklearn.datasets import load_digits\n",
    "from sklearn.model_selection import train_test_split, cross_val_score\n",
    "from sklearn.neighbors import KNeighborsClassifier\n",
    "from sklearn.svm import SVC\n",
    "\n",
    "import optuna\n",
    "from optuna.samplers import TPESampler\n",
    "\n",
    "digits = load_digits()\n",
    "X_train, X_test, y_train, y_test = train_test_split(digits.data,\n",
    "                                                    digits.target,\n",
    "                                                    test_size=0.3)\n",
    "\n",
    "def log(study, trial):\n",
    "    print(f\"Trial No.={trial.number}, HP_Set={trial.params}, Score={trial.value}\")\n",
    "    print(f\"Best Value ={study.best_value}\")\n",
    "\n",
    "def objective_func(trial):\n",
    "    \n",
    "    classifier_name = trial.suggest_categorical(\"classifier\", [\"SVC\", \"RandomForest\"])\n",
    "    if classifier_name == \"SVC\":\n",
    "        c = trial.suggest_loguniform(\"svc_c\", 1e-2, 1e+11)\n",
    "        gamma = trial.suggest_loguniform(\"svc_gamma\", 1e-9, 1e+3)\n",
    "        kernel = trial.suggest_categorical(\"svc_kernel\", ['rbf','poly','rbf','sigmoid'])\n",
    "        degree = trial.suggest_categorical(\"svc_degree\", range(1,15))\n",
    "        clf = SVC(C=c, gamma=gamma, kernel=kernel, degree=degree)\n",
    "    else:\n",
    "        algorithm = trial.suggest_categorical(\"algorithm\", ['ball_tree', \"kd_tree\"])\n",
    "        leaf_size = trial.suggest_categorical(\"leaf_size\", range(1,50))\n",
    "        metric = trial.suggest_categorical(\"metic\", [\"euclidean\",\"manhattan\", \"chebyshev\",\"minkowski\"])\n",
    "        clf = KNeighborsClassifier(algorithm=algorithm, leaf_size=leaf_size, metric=metric)\n",
    "        \n",
    "    clf.fit(X_train, y_train)\n",
    "    val_acc = clf.score(X_test, y_test)\n",
    "    \n",
    "    return val_acc\n",
    "\n",
    "study = optuna.create_study(direction='maximize', sampler=TPESampler())\n",
    "study.optimize(objective_func, n_trials=3, callbacks=[log])\n",
    "best_trial = study.best_trial.value\n",
    "\n",
    "print(f\"Best trial  accuracy: {best_trial}\")\n",
    "print(\"parameters for best trail are :\")\n",
    "for key, value in study.best_trial.params.items():\n",
    "    print(f\"{key}: {value}\")"
   ]
  },
  {
   "cell_type": "markdown",
   "metadata": {},
   "source": [
    "#### Optimizing a neural network with Optuna"
   ]
  },
  {
   "cell_type": "code",
   "execution_count": 1,
   "metadata": {},
   "outputs": [
    {
     "name": "stdout",
     "output_type": "stream",
     "text": [
      "Validation accuracy: 0.9381666779518127\n"
     ]
    },
    {
     "name": "stderr",
     "output_type": "stream",
     "text": [
      "[I 2020-09-10 02:51:57,161] Trial 0 finished with value: 0.9381666779518127 and parameters: {'hidden_layers': 3, 'layer1': 16, 'activation1': 'relu', 'layer2': 256, 'dropout2': 0.25141053044999245, 'activation2': 'elu', 'layer3': 512, 'dropout3': 0.11016390109757027, 'activation3': 'relu', 'optimizer': 'sgd'}. Best is trial 0 with value: 0.9381666779518127.\n"
     ]
    },
    {
     "name": "stdout",
     "output_type": "stream",
     "text": [
      "Trial No.=0, HP_Set={'hidden_layers': 3, 'layer1': 16, 'activation1': 'relu', 'layer2': 256, 'dropout2': 0.25141053044999245, 'activation2': 'elu', 'layer3': 512, 'dropout3': 0.11016390109757027, 'activation3': 'relu', 'optimizer': 'sgd'},           Score=0.9381666779518127\n",
      "Best Value =0.9381666779518127\n",
      "Validation accuracy: 0.9210833311080933\n"
     ]
    },
    {
     "name": "stderr",
     "output_type": "stream",
     "text": [
      "[I 2020-09-10 02:54:42,359] Trial 1 finished with value: 0.9210833311080933 and parameters: {'hidden_layers': 6, 'layer1': 16, 'activation1': 'elu', 'layer2': 1024, 'dropout2': 0.0770311428707621, 'activation2': 'relu', 'layer3': 256, 'dropout3': 0.23867690400017977, 'activation3': 'elu', 'layer4': 512, 'dropout4': 0.4670137464296996, 'activation4': 'relu', 'layer5': 1024, 'dropout5': 0.6589426174719933, 'activation5': 'elu', 'layer6': 64, 'dropout6': 0.1908511103364826, 'activation6': 'elu', 'optimizer': 'adam'}. Best is trial 0 with value: 0.9381666779518127.\n"
     ]
    },
    {
     "name": "stdout",
     "output_type": "stream",
     "text": [
      "Trial No.=1, HP_Set={'hidden_layers': 6, 'layer1': 16, 'activation1': 'elu', 'layer2': 1024, 'dropout2': 0.0770311428707621, 'activation2': 'relu', 'layer3': 256, 'dropout3': 0.23867690400017977, 'activation3': 'elu', 'layer4': 512, 'dropout4': 0.4670137464296996, 'activation4': 'relu', 'layer5': 1024, 'dropout5': 0.6589426174719933, 'activation5': 'elu', 'layer6': 64, 'dropout6': 0.1908511103364826, 'activation6': 'elu', 'optimizer': 'adam'},           Score=0.9210833311080933\n",
      "Best Value =0.9381666779518127\n",
      "Validation accuracy: 0.8883333206176758\n"
     ]
    },
    {
     "name": "stderr",
     "output_type": "stream",
     "text": [
      "[I 2020-09-10 02:55:29,369] Trial 2 finished with value: 0.8883333206176758 and parameters: {'hidden_layers': 4, 'layer1': 8, 'activation1': 'elu', 'layer2': 512, 'dropout2': 0.7633752407047723, 'activation2': 'elu', 'layer3': 64, 'dropout3': 0.50947871168164, 'activation3': 'relu', 'layer4': 32, 'dropout4': 0.20842638075616451, 'activation4': 'elu', 'optimizer': 'rmsprop'}. Best is trial 0 with value: 0.9381666779518127.\n"
     ]
    },
    {
     "name": "stdout",
     "output_type": "stream",
     "text": [
      "Trial No.=2, HP_Set={'hidden_layers': 4, 'layer1': 8, 'activation1': 'elu', 'layer2': 512, 'dropout2': 0.7633752407047723, 'activation2': 'elu', 'layer3': 64, 'dropout3': 0.50947871168164, 'activation3': 'relu', 'layer4': 32, 'dropout4': 0.20842638075616451, 'activation4': 'elu', 'optimizer': 'rmsprop'},           Score=0.8883333206176758\n",
      "Best Value =0.9381666779518127\n",
      "Validation accuracy: 0.39908334612846375\n"
     ]
    },
    {
     "name": "stderr",
     "output_type": "stream",
     "text": [
      "[I 2020-09-10 02:56:38,688] Trial 3 finished with value: 0.39908334612846375 and parameters: {'hidden_layers': 5, 'layer1': 16, 'activation1': 'relu', 'layer2': 64, 'dropout2': 0.7005369634674325, 'activation2': 'elu', 'layer3': 32, 'dropout3': 0.6809845398478749, 'activation3': 'elu', 'layer4': 256, 'dropout4': 0.6103458818599555, 'activation4': 'relu', 'layer5': 512, 'dropout5': 0.6887479204074419, 'activation5': 'relu', 'optimizer': 'adam'}. Best is trial 0 with value: 0.9381666779518127.\n"
     ]
    },
    {
     "name": "stdout",
     "output_type": "stream",
     "text": [
      "Trial No.=3, HP_Set={'hidden_layers': 5, 'layer1': 16, 'activation1': 'relu', 'layer2': 64, 'dropout2': 0.7005369634674325, 'activation2': 'elu', 'layer3': 32, 'dropout3': 0.6809845398478749, 'activation3': 'elu', 'layer4': 256, 'dropout4': 0.6103458818599555, 'activation4': 'relu', 'layer5': 512, 'dropout5': 0.6887479204074419, 'activation5': 'relu', 'optimizer': 'adam'},           Score=0.39908334612846375\n",
      "Best Value =0.9381666779518127\n",
      "Validation accuracy: 0.8981666564941406\n"
     ]
    },
    {
     "name": "stderr",
     "output_type": "stream",
     "text": [
      "[I 2020-09-10 02:57:14,683] Trial 4 finished with value: 0.8981666564941406 and parameters: {'hidden_layers': 1, 'layer1': 8, 'activation1': 'elu', 'optimizer': 'rmsprop'}. Best is trial 0 with value: 0.9381666779518127.\n"
     ]
    },
    {
     "name": "stdout",
     "output_type": "stream",
     "text": [
      "Trial No.=4, HP_Set={'hidden_layers': 1, 'layer1': 8, 'activation1': 'elu', 'optimizer': 'rmsprop'},           Score=0.8981666564941406\n",
      "Best Value =0.9381666779518127\n",
      "Best trial  accuracy: 0.9381666779518127\n",
      "parameters for best trail are :\n",
      "hidden_layers: 3\n",
      "layer1: 16\n",
      "activation1: relu\n",
      "layer2: 256\n",
      "dropout2: 0.25141053044999245\n",
      "activation2: elu\n",
      "layer3: 512\n",
      "dropout3: 0.11016390109757027\n",
      "activation3: relu\n",
      "optimizer: sgd\n"
     ]
    }
   ],
   "source": [
    "from keras.datasets import mnist\n",
    "from keras.layers.core import Dense, Dropout, Activation\n",
    "from keras.models import Sequential\n",
    "from keras.utils import np_utils\n",
    "import numpy as np\n",
    "\n",
    "import optuna\n",
    "from optuna.samplers import TPESampler\n",
    "\n",
    "(x_train, y_train), (x_test, y_test) = mnist.load_data()\n",
    "x_train = x_train.reshape(60000, 784)\n",
    "x_test = x_test.reshape(10000, 784)\n",
    "x_train = x_train.astype('float32')\n",
    "x_test = x_test.astype('float32')\n",
    "x_train /= 255\n",
    "x_test /= 255\n",
    "classes = 10\n",
    "input_shape = 784\n",
    "y_train = np_utils.to_categorical(y_train, classes)\n",
    "y_test = np_utils.to_categorical(y_test, classes)\n",
    "x_train, y_train, x_test, y_test, input_shape, classes\n",
    "\n",
    "def log(study, trial):\n",
    "    print(f\"Trial No.={trial.number}, HP_Set={trial.params}, \\\n",
    "          Score={trial.value}\")\n",
    "    print(f\"Best Value ={study.best_value}\")\n",
    "\n",
    "def objective_func(trial):\n",
    " \n",
    "    model = Sequential()\n",
    "\n",
    "    hidden_layer_unit_choice = [32, 64, 256, 512, 1024]\n",
    "\n",
    "    hidden_layers = trial.suggest_int('hidden_layers', 1, 6)\n",
    "    \n",
    "    model.add(Dense(units=trial.suggest_categorical('layer1', [8, 16]), \n",
    "                    input_shape=(input_shape, ),\n",
    "                    name='dense1'))\n",
    "    model.add(Activation(activation=trial.suggest_categorical(f'activation1',\n",
    "                                                               ['relu', 'elu'])))\n",
    "\n",
    "    for i in range(1, hidden_layers):\n",
    "        \n",
    "        model.add(Dense(units=trial.suggest_categorical(f'layer{i+1}', \n",
    "                                                        hidden_layer_unit_choice)))\n",
    "        model.add(Dropout(trial.suggest_uniform(f'dropout{i+1}', 0, 0.8)))\n",
    "        model.add(Activation(activation=trial.suggest_categorical(f'activation{i+1}', \n",
    "                                                                  ['relu', 'elu'])))\n",
    "\n",
    "    model.add(Dense(classes))\n",
    "    model.add(Activation(activation='softmax'))\n",
    "\n",
    "    model.compile(loss='categorical_crossentropy', metrics=['accuracy'],\n",
    "                  optimizer=trial.suggest_categorical('optimizer', ['rmsprop', 'adam', 'sgd']))\n",
    "\n",
    "    result = model.fit(x_train, y_train,\n",
    "                      batch_size=4,\n",
    "                      epochs=1,\n",
    "                      verbose=3,\n",
    "                      validation_split=0.2)\n",
    "\n",
    "    validation_acc = np.amax(result.history['val_accuracy'])\n",
    "    print('Validation accuracy:', validation_acc)\n",
    "\n",
    "    return validation_acc\n",
    "\n",
    "\n",
    "study = optuna.create_study(direction='maximize', sampler=TPESampler())\n",
    "# increase the number of trials\n",
    "study.optimize(objective_func, n_trials=5, callbacks=[log])\n",
    "best_trial = study.best_trial.value\n",
    "\n",
    "print(f\"Best trial  accuracy: {best_trial}\")\n",
    "print(\"parameters for best trail are :\")\n",
    "for key, value in study.best_trial.params.items():\n",
    "    print(f\"{key}: {value}\")"
   ]
  },
  {
   "cell_type": "code",
   "execution_count": null,
   "metadata": {},
   "outputs": [],
   "source": []
  }
 ],
 "metadata": {
  "kernelspec": {
   "display_name": "Python 3",
   "language": "python",
   "name": "python3"
  },
  "language_info": {
   "codemirror_mode": {
    "name": "ipython",
    "version": 3
   },
   "file_extension": ".py",
   "mimetype": "text/x-python",
   "name": "python",
   "nbconvert_exporter": "python",
   "pygments_lexer": "ipython3",
   "version": "3.7.6"
  }
 },
 "nbformat": 4,
 "nbformat_minor": 4
}
